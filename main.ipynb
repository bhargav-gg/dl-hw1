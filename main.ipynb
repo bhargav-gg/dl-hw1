{
 "cells": [
  {
   "cell_type": "markdown",
   "metadata": {},
   "source": [
    "# 0. Checking CUDA Availability + Making Sure GPU is Utilized"
   ]
  },
  {
   "cell_type": "code",
   "execution_count": 3,
   "metadata": {},
   "outputs": [
    {
     "name": "stdout",
     "output_type": "stream",
     "text": [
      "PyTorch Version: 2.4.1+cu124\n",
      "CUDA Availability: True\n",
      "Device Count: 1\n",
      "\n",
      "Current Device Index: 0\n",
      "Current Device Object: <torch.cuda.device object at 0x7af95486fc40>\n",
      "Current Device Name: NVIDIA GeForce RTX 4060 Laptop GPU\n"
     ]
    }
   ],
   "source": [
    "import torch\n",
    "import math\n",
    "import numpy\n",
    "import matplotlib.pyplot as plt\n",
    "\n",
    "print(\"PyTorch Version: \" + torch.__version__)\n",
    "print(\"CUDA Availability: \" + str(torch.cuda.is_available()))\n",
    "print(\"Device Count: \" + str(torch.cuda.device_count()) + \"\\n\")\n",
    "\n",
    "current = torch.cuda.current_device()\n",
    "\n",
    "print(\"Current Device Index: \" + str(current))\n",
    "print(\"Current Device Object: \" + str(torch.cuda.device(current)))\n",
    "print(\"Current Device Name: \" + torch.cuda.get_device_name(current))"
   ]
  },
  {
   "cell_type": "markdown",
   "metadata": {},
   "source": [
    "# 1-1a. Simulate a Function\n",
    "\n",
    "The function I will be simulating is $ f(x) = sgn(\\frac{sin(4x)}{1.1 + cos(2x)}) $."
   ]
  },
  {
   "cell_type": "code",
   "execution_count": 4,
   "metadata": {},
   "outputs": [
    {
     "name": "stdout",
     "output_type": "stream",
     "text": [
      "torch.Size([20000, 2])\n"
     ]
    }
   ],
   "source": [
    "# List to contain generated function data\n",
    "function_data = []\n",
    "\n",
    "# Function representation of the simulated function\n",
    "def groundtruth_function(x):\n",
    "    fx = math.sin(4 * x) / (1.1 + math.cos(2 * x))\n",
    "\n",
    "    if fx == 0:\n",
    "        return 0\n",
    "    elif fx > 0:\n",
    "        return 1\n",
    "    else:\n",
    "        return -1\n",
    "\n",
    "#Get [x, f(x)] pairs for all points between start and end, at the interval indicated by jump_rate\n",
    "start = -2000\n",
    "end = 2000\n",
    "jump_rate = 0.2\n",
    "\n",
    "while start < end:\n",
    "    function_data.append([start, groundtruth_function(start)])\n",
    "    start += jump_rate\n",
    "\n",
    "#Convert list into PyTorch tensor\n",
    "function_data = torch.tensor(function_data)\n",
    "\n",
    "print(function_data.size())"
   ]
  },
  {
   "cell_type": "markdown",
   "metadata": {},
   "source": [
    "# 1-1b. Train on Actual Task"
   ]
  },
  {
   "cell_type": "markdown",
   "metadata": {},
   "source": [
    "# 1-2. Optimization"
   ]
  },
  {
   "cell_type": "markdown",
   "metadata": {},
   "source": [
    "# 1-3. Generalization"
   ]
  }
 ],
 "metadata": {
  "kernelspec": {
   "display_name": "Python 3",
   "language": "python",
   "name": "python3"
  },
  "language_info": {
   "codemirror_mode": {
    "name": "ipython",
    "version": 3
   },
   "file_extension": ".py",
   "mimetype": "text/x-python",
   "name": "python",
   "nbconvert_exporter": "python",
   "pygments_lexer": "ipython3",
   "version": "3.10.12"
  }
 },
 "nbformat": 4,
 "nbformat_minor": 2
}
